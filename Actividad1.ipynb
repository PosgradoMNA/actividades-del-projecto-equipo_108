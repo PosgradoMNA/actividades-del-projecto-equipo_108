{
  "nbformat": 4,
  "nbformat_minor": 0,
  "metadata": {
    "colab": {
      "provenance": [],
      "include_colab_link": true
    },
    "kernelspec": {
      "name": "python3",
      "display_name": "Python 3"
    },
    "language_info": {
      "name": "python"
    }
  },
  "cells": [
    {
      "cell_type": "markdown",
      "metadata": {
        "id": "view-in-github",
        "colab_type": "text"
      },
      "source": [
        "<a href=\"https://colab.research.google.com/github/PosgradoMNA/actividades-del-projecto-equipo_108/blob/VJGE/Actividad1.ipynb\" target=\"_parent\"><img src=\"https://colab.research.google.com/assets/colab-badge.svg\" alt=\"Open In Colab\"/></a>"
      ]
    },
    {
      "cell_type": "code",
      "execution_count": null,
      "metadata": {
        "id": "0gTwaDNfsiRw",
        "outputId": "00b732e7-7c32-4b53-952c-05bdc3310cdc",
        "colab": {
          "base_uri": "https://localhost:8080/"
        }
      },
      "outputs": [
        {
          "output_type": "stream",
          "name": "stdout",
          "text": [
            "Hola mundo\n"
          ]
        }
      ],
      "source": []
    },
    {
      "cell_type": "markdown",
      "source": [
        "Predicción de abandono de clientes bancarios\n",
        "\n",
        "Banco USA Bank\n",
        "\n",
        "https://www.kaggle.com/datasets/shantanudhakadd/bank-customer-churn-prediction\n",
        "\n",
        "https://docs.google.com/spreadsheets/d/1GgcOLEAeMkSNt_gHacpAW-aFkM-7jx8k/edit?usp=sharing&ouid=116836654635281476270&rtpof=true&sd=true\n",
        "\n",
        "Esta base de datos contiene una lista de clientes que se cambian de banco con las siguientes características como:Nombre, Edad, No de cliente, Geografía, Género, Score Crediticio, Balance en el banco, Número de productos, Miembro Activo, Tarjeta de Crédito, Salario Estimado, El cliente aún pertenece a este banco o cambio y otros datos del banco.\n",
        "\n",
        "1-¿El cliente se puede ir a otro banco?\n",
        "\n",
        "2-¿El cliente es sujeto de crédito?\n",
        "\n",
        "3-¿Rango de edad de las personas que quieren irse?\n",
        "\n",
        "4-¿dónde las personas tienen un mayor salario estimado?\n",
        "\n",
        "5-¿Cuál es la media de productos que tienen las personas con el banco?\n",
        "\n",
        "6-¿Cuál es el tipo de las personas que prefieren tener tarjetas de crédito?\n",
        "\n",
        "7-¿Qué rango de edad gana más?\n",
        "\n",
        "8-¿Cuál es el promedio del saldo bancario que tiene un miembro Activo?\n",
        "\n",
        "\n",
        "Bancos, Reguladores del sistema financiero, prestamistas, Hacedores de política pública"
      ],
      "metadata": {
        "id": "yZmdRBnu7Boi"
      }
    },
    {
      "cell_type": "markdown",
      "source": [
        "\n"
      ],
      "metadata": {
        "id": "3qnWxuVG15o3"
      }
    },
    {
      "cell_type": "code",
      "source": [],
      "metadata": {
        "id": "B928XA3suEyL",
        "outputId": "c4a038eb-d7d9-4934-fe0b-ec68bb6690f0",
        "colab": {
          "base_uri": "https://localhost:8080/"
        }
      },
      "execution_count": null,
      "outputs": [
        {
          "output_type": "stream",
          "name": "stdout",
          "text": [
            "HOLA\n"
          ]
        }
      ]
    },
    {
      "cell_type": "code",
      "source": [
        "####"
      ],
      "metadata": {
        "id": "k7olITyGuQa1"
      },
      "execution_count": 1,
      "outputs": []
    },
    {
      "cell_type": "code",
      "source": [],
      "metadata": {
        "id": "YMT5XSuxixAH"
      },
      "execution_count": null,
      "outputs": []
    }
  ]
}