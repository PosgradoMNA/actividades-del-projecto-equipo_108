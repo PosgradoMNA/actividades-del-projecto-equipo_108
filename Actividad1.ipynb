{
  "nbformat": 4,
  "nbformat_minor": 0,
  "metadata": {
    "colab": {
      "provenance": [],
      "toc_visible": true,
      "include_colab_link": true
    },
    "kernelspec": {
      "name": "python3",
      "display_name": "Python 3"
    },
    "language_info": {
      "name": "python"
    }
  },
  "cells": [
    {
      "cell_type": "markdown",
      "metadata": {
        "id": "view-in-github",
        "colab_type": "text"
      },
      "source": [
        "<a href=\"https://colab.research.google.com/github/PosgradoMNA/actividades-del-projecto-equipo_108/blob/main/Actividad1.ipynb\" target=\"_parent\"><img src=\"https://colab.research.google.com/assets/colab-badge.svg\" alt=\"Open In Colab\"/></a>"
      ]
    },
    {
      "cell_type": "markdown",
      "source": [
        "# **EQUIPO 108**\n",
        "\n",
        "Integrantes:\n",
        "- Victor Joseph Guerrero Escoto\n",
        "- Cristian Reynaldo Miranda Jimenez"
      ],
      "metadata": {
        "id": "uvkZlRnRzgRp"
      }
    },
    {
      "cell_type": "markdown",
      "source": [
        "## **Descripción general**\n",
        "\n",
        "A continuación, se presentan las principales caracteristicas de los datos elegidos para trabajar durante el trimestre en la materia de Analítica de Datos de la maestria de Inteligencia Artificial Aplicada en el Tec de Monterey.\n",
        "\n",
        "1.  **Nombre que caracteriza el conjunto de datos:** Predicción de abandono de clientes bancarios (Churn de clientes) \n",
        "2.   **Organización que generó el conjunto de datos:** USA Bank\n",
        "\n",
        "3. **Link de descarga de los datos:** [Kaggle](https://www.kaggle.com/datasets/shantanudhakadd/bank-customer-churn-prediction), [Hoja de cálculo](https://docs.google.com/spreadsheets/d/1GgcOLEAeMkSNt_gHacpAW-aFkM-7jx8k/edit?usp=sharing&ouid=116836654635281476270&rtpof=true&sd=true)\n",
        "\n",
        "4. **Describe el conjunto de datos. ¿Qué datos contiene?:** Esta base de datos contiene una lista de clientes que se cambian de banco con las siguientes características como:Nombre, Edad, No de cliente, Geografía, Género, Score Crediticio, Balance en el banco, Número de productos, Miembro Activo, Tarjeta de Crédito, Salario Estimado, El cliente aún pertenece a este banco o cambio y otros datos del banco.\n",
        "\n",
        "5. **¿Cuáles son algunas de las preguntas de investigación que podría responder con estos datos? Enumere al menos OCHO**\n",
        "\n",
        "  * ¿Qué cliente tiene más probabilidad de cambiarse de banco?\n",
        "  * ¿Cuales clientes son sujetos de crédito?\n",
        "  * ¿En qué rango de edad caen las personas que más desean quieren irse del banco actual?\n",
        "  * ¿De qué parte son las personas que tienen un mayor salario estimado?\n",
        "  * ¿Cuál es la media de productos que tienen las personas con el banco?\n",
        "  * ¿Cuál es el tipo de las personas que prefieren tener tarjetas de crédito?\n",
        "  * ¿Qué rango de edad gana más?\n",
        "  * ¿Cuál es el promedio del saldo bancario que tiene un miembro Activo?\n",
        "\n",
        "6. **¿Qué actor (empresa, sector de la sociedad, organismo descentralizado, gobierno, etc.) estaría interesado en las preguntas mencionadas que identificó?** Bancos, Reguladores del sistema financiero, prestamistas, Hacedores de política pública\n",
        "\n",
        "\n",
        "\n",
        "\n"
      ],
      "metadata": {
        "id": "CmS9XLSPyh-F"
      }
    }
  ]
}