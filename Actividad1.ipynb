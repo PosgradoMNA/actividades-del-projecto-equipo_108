{
  "nbformat": 4,
  "nbformat_minor": 0,
  "metadata": {
    "colab": {
      "provenance": [],
      "include_colab_link": true
    },
    "kernelspec": {
      "name": "python3",
      "display_name": "Python 3"
    },
    "language_info": {
      "name": "python"
    }
  },
  "cells": [
    {
      "cell_type": "markdown",
      "metadata": {
        "id": "view-in-github",
        "colab_type": "text"
      },
      "source": [
        "<a href=\"https://colab.research.google.com/github/PosgradoMNA/actividades-del-projecto-equipo_108/blob/CRMIRANDA/Actividad1.ipynb\" target=\"_parent\"><img src=\"https://colab.research.google.com/assets/colab-badge.svg\" alt=\"Open In Colab\"/></a>"
      ]
    },
    {
      "cell_type": "code",
      "execution_count": null,
      "metadata": {
        "id": "0gTwaDNfsiRw",
        "outputId": "00b732e7-7c32-4b53-952c-05bdc3310cdc",
        "colab": {
          "base_uri": "https://localhost:8080/"
        }
      },
      "outputs": [
        {
          "output_type": "stream",
          "name": "stdout",
          "text": [
            "Hola mundo\n"
          ]
        }
      ],
      "source": [
        "print('Hola mundo')"
      ]
    },
    {
      "cell_type": "code",
      "source": [
        "print(\"HOLA\")"
      ],
      "metadata": {
        "id": "B928XA3suEyL",
        "outputId": "c4a038eb-d7d9-4934-fe0b-ec68bb6690f0",
        "colab": {
          "base_uri": "https://localhost:8080/"
        }
      },
      "execution_count": null,
      "outputs": [
        {
          "output_type": "stream",
          "name": "stdout",
          "text": [
            "HOLA\n"
          ]
        }
      ]
    },
    {
      "cell_type": "code",
      "source": [
        "# fff"
      ],
      "metadata": {
        "id": "k7olITyGuQa1"
      },
      "execution_count": 3,
      "outputs": []
    },
    {
      "cell_type": "code",
      "source": [],
      "metadata": {
        "id": "ZJh6gorNuvvn"
      },
      "execution_count": null,
      "outputs": []
    }
  ]
}